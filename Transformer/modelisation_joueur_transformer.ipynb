{
 "cells": [
  {
   "attachments": {},
   "cell_type": "markdown",
   "metadata": {},
   "source": [
    "# Modelisation joueur  \n"
   ]
  },
  {
   "attachments": {},
   "cell_type": "markdown",
   "metadata": {},
   "source": [
    "Imporations des dépendances"
   ]
  },
  {
   "cell_type": "code",
   "execution_count": 86,
   "metadata": {},
   "outputs": [],
   "source": [
    "import torch\n",
    "import torch.nn as nn\n",
    "from torch.optim import AdamW\n",
    "import math\n",
    "from torch.utils.data import DataLoader\n",
    "from tqdm import tqdm, trange\n",
    "import matplotlib.pyplot as plt\n",
    "import numpy as np\n",
    "import pickle\n",
    "\n"
   ]
  },
  {
   "cell_type": "code",
   "execution_count": 87,
   "metadata": {},
   "outputs": [
    {
     "name": "stdout",
     "output_type": "stream",
     "text": [
      "GPU disponible : NVIDIA RTX A4000\n"
     ]
    }
   ],
   "source": [
    "if torch.cuda.is_available():\n",
    "    device = torch.device(\"cuda\")  # Définissez l'appareil sur GPU\n",
    "    print(\"GPU disponible :\", torch.cuda.get_device_name(0))  # Affiche le nom du GPU\n",
    "else:\n",
    "    device = torch.device(\"cpu\")  # Définissez l'appareil sur CPU\n",
    "    print(\"GPU non disponible, utilisation du CPU.\")"
   ]
  },
  {
   "attachments": {},
   "cell_type": "markdown",
   "metadata": {},
   "source": [
    "\n",
    "## Modele\n",
    "  \n",
    "### Bloc Transformer"
   ]
  },
  {
   "cell_type": "code",
   "execution_count": 88,
   "metadata": {},
   "outputs": [],
   "source": [
    "class Attention(nn.Module):\n",
    "    def __init__(self, x_to_dim, x_from_dim, hidden_dim,):\n",
    "        super(Attention, self).__init__()\n",
    "\n",
    "        self.sqrt_hidden_dim = math.sqrt(hidden_dim)\n",
    "\n",
    "        self.wq = nn.Parameter(torch.randn(hidden_dim, x_to_dim)).to(device)\n",
    "        \n",
    "        self.wk = nn.Parameter(torch.randn(hidden_dim, x_from_dim)).to(device)\n",
    "        self.wv = nn.Parameter(torch.randn(x_to_dim, x_from_dim)).to(device)\n",
    "\n",
    "    def forward(self, x_to, x_from):\n",
    "        # x_to = [batch size, x_to_len, x_to_dim]\n",
    "        # x_from = [batch size, x_from_len, x_from_dim]\n",
    "\n",
    "        # les lettres dans les einsum :\n",
    "        # b : le batch\n",
    "        # x, y, z: la taille de l'ensemble (x_from ou x_to)\n",
    "        # i,j : les éléments des vecteurs de x_from, x_to / les éléments de ces vecteurs une fois projetés (via Wq, Wk ou Wv)\n",
    "\n",
    "        q = torch.einsum('ik,bxk->bxi',self.wq,x_to) # un tenseur de dimension (batch size, x_to_len, Dq)\n",
    "\n",
    "        k = torch.einsum('ij,bxj->bxi',self.wk,x_from) # un tenseur de dimension (batch size, x_from_len, Dk=Dq)\n",
    "        v = torch.einsum('ij,bxj->bxi',self.wv,x_from) # un tenseur de dimension (batch size, x_from_len, Dv)\n",
    "\n",
    "        e = torch.softmax(torch.einsum('bxi,byi->bxy', q, k)/self.sqrt_hidden_dim, dim=1) # un tenseur de dimension (batch size, x_to_len, x_from_len)\n",
    "\n",
    "        attention = torch.einsum('bxy,byi->bxi', e, v) # un tenseur de dimension (batch size, x_to_len, Dv)\n",
    "\n",
    "        return attention\n",
    "\n",
    "class MultiHeadAttention(nn.Module):\n",
    "    def __init__(self, x_to_dim, x_from_dim, hidden_dim, n_heads):\n",
    "        super(MultiHeadAttention, self).__init__()\n",
    "        heads_list = []\n",
    "        for _ in range(n_heads):\n",
    "            att = Attention(x_to_dim, x_from_dim, hidden_dim)\n",
    "            heads_list.append(att)\n",
    "        \n",
    "        self.heads_list = heads_list\n",
    "        self.output_projection = nn.Parameter(torch.randn(n_heads)).to(device)\n",
    "\n",
    "    def forward(self, x_to, x_from):\n",
    "        # x_to = [batch size, x_to_len, x_to_dim]\n",
    "        # x_from = [batch size, x_from_len, x_from_dim]\n",
    "        attention_list = []\n",
    "\n",
    "        for head in self.heads_list:\n",
    "            attention_list.append(head(x_to, x_from)) \n",
    "\n",
    "        concat = torch.stack(attention_list) # on obtient ainsi un tenseur représentant la concaténation des résultats des différentes \"heads\"\n",
    "\n",
    "        result = torch.einsum('hbxi,h->bxi', concat, self.output_projection)\n",
    "\n",
    "        return result\n",
    "\n",
    "class MultiHeadSelfAttention(nn.Module):\n",
    "    def __init__(self, x_to_dim, hidden_dim, n_heads):\n",
    "        super(MultiHeadSelfAttention, self).__init__()\n",
    "        self.multhead = MultiHeadAttention(x_to_dim, x_to_dim, hidden_dim, n_heads)\n",
    "    \n",
    "    def forward(self, x_to):\n",
    "        return self.multhead(x_to, x_to)\n",
    "\n",
    "class LayerNorm(nn.Module):\n",
    "    def __init__(self):\n",
    "        super(LayerNorm, self).__init__()\n",
    "\n",
    "    def forward(self, x):\n",
    "        norm_x = torch.norm(x, dim=1).unsqueeze(1).expand_as(x)\n",
    "\n",
    "        return x/norm_x\n",
    "\n",
    "class FFN(nn.Sequential):\n",
    "    def __init__(self, input_dim, dropout_rate=0.1, expansion_factor=2):\n",
    "        super(FFN, self).__init__()\n",
    "        self.hidden_layer = nn.Linear(input_dim, input_dim*expansion_factor)\n",
    "        self.dropout_layer = nn.Dropout(p = dropout_rate)\n",
    "        self.output_layer = nn.Linear(input_dim*expansion_factor, input_dim)\n",
    "\n",
    "    def forward(self, x):\n",
    "        x = self.hidden_layer(x)\n",
    "        x = nn.LeakyReLU(negative_slope=0.1)(self.dropout_layer(x))\n",
    "        x = self.output_layer(x)\n",
    "        return x\n",
    "\n",
    "class TransformerEncoderBlock(nn.Module):\n",
    "    def __init__(self, data_dim, hidden_dim, n_heads, dropout_rate=0.1):\n",
    "        super(TransformerEncoderBlock, self).__init__()\n",
    "\n",
    "        self.bloc_self_attention = MultiHeadSelfAttention(data_dim, hidden_dim, n_heads)\n",
    "\n",
    "        self.bloc_normalization_1 = LayerNorm()\n",
    "\n",
    "        self.bloc_FFN = FFN(data_dim, dropout_rate=dropout_rate)\n",
    "\n",
    "        self.bloc_normalization_2 = LayerNorm()\n",
    "        # It's useless to use 2 LayerNorm, cause they are the same. \n",
    "        # Yet, because it's my first transformer,\n",
    "        # I will keep both of them for clarity in my mind\n",
    "\n",
    "\n",
    "    def forward(self, x):\n",
    "        # x = [batch size, x_len, hidden dim]\n",
    "        identity = x\n",
    "        x = self.bloc_self_attention(x)\n",
    "        x = self.bloc_normalization_1(x+identity)\n",
    "\n",
    "        identity = x\n",
    "        x = self.bloc_FFN(x)\n",
    "        x = self.bloc_normalization_2(x+identity)\n",
    "\n",
    "        return x\n",
    "\n",
    "class SinusoidalPositionalEncoding(nn.Module):\n",
    "    def __init__(self, hidden_dim, max_len, const = 10000):\n",
    "        super(SinusoidalPositionalEncoding, self).__init__()\n",
    "\n",
    "        self.pe = torch.zeros(max_len, hidden_dim).to(device)\n",
    "\n",
    "        for i in range(max_len):\n",
    "            for j in range(hidden_dim):\n",
    "                if j%2==0:\n",
    "                    self.pe[i, j] = math.sin(i/(const**(j/hidden_dim)))\n",
    "                else:\n",
    "                    self.pe[i, j] = math.cos(i/(const**((j-1)/hidden_dim)))\n",
    "\n",
    "    def forward(self, x):\n",
    "        # x = [batch size, len_x, dim_vect_de_x]\n",
    "        dim_batch = x.size(0) # dimension du batch\n",
    "        for k in range(dim_batch):\n",
    "            x[k] += self.pe[:x[k].size(0),:] # on somme le tenseur PE sur chaque élément du batch\n",
    "        return x\n",
    "\n",
    "class LearnedPositionalEncoding(nn.Module):\n",
    "    def __init__(self, hidden_dim, max_len):\n",
    "        super(LearnedPositionalEncoding, self).__init__()\n",
    "\n",
    "        self.pe = nn.Parameter(torch.randn(max_len, hidden_dim)).to(device)\n",
    "\n",
    "\n",
    "    def forward(self, x):\n",
    "        dim_batch = x.size(0) # dimension du batch\n",
    "        for k in range(dim_batch):\n",
    "            x[k] += self.pe[:x[k].size(0),:] # on somme le tenseur PE sur chaque élément du batch\n",
    "        return x\n",
    "\n",
    "class TransformerEncoder(nn.Module):\n",
    "    def __init__(self, data_dim,  hidden_dim, n_heads, n_layers, dropout_rate=0.1, positional_encoding=\"sinusoidal\", max_len=1000):\n",
    "        super(TransformerEncoder, self).__init__()\n",
    "        if positional_encoding == \"sinusoidal\":\n",
    "            self.layer_positional_encoding = SinusoidalPositionalEncoding(data_dim, max_len)\n",
    "        else:\n",
    "            self.layer_positional_encoding = LearnedPositionalEncoding(data_dim, max_len)\n",
    "        \n",
    "        self.bloc_transformer_list = nn.ModuleList([TransformerEncoderBlock(data_dim, hidden_dim, n_heads, dropout_rate) for i in range(n_layers)])\n",
    "\n",
    "    def forward(self, x, mask):\n",
    "        x = self.layer_positional_encoding(x)\n",
    "\n",
    "        for transformer_block in self.bloc_transformer_list:\n",
    "            x = transformer_block(x) * mask\n",
    "\n",
    "        return x\n",
    "    \n"
   ]
  },
  {
   "attachments": {},
   "cell_type": "markdown",
   "metadata": {},
   "source": [
    "### Modele global"
   ]
  },
  {
   "cell_type": "code",
   "execution_count": 89,
   "metadata": {},
   "outputs": [],
   "source": [
    "class MLP(nn.Module):\n",
    "    def __init__(self, layers_sizes):\n",
    "        super(MLP, self).__init__()\n",
    "        self.layers = nn.ModuleList([nn.Linear(in_features=layers_sizes[i], out_features=layers_sizes[i+1]) for i in range(len(layers_sizes)-1)])\n",
    "\n",
    "    def forward(self, x):\n",
    "        for layer in self.layers:\n",
    "            x = nn.LeakyReLU()(layer(x))\n",
    "        return x\n",
    "\n",
    "\n",
    "class PlayerModel(nn.Module):\n",
    "    def __init__(self, layer_size_embedding, layer_size_output, hidden_dim_transformer, n_heads_transformer, n_layers_transformer, max_len_for_encoding):\n",
    "        super(PlayerModel, self).__init__()\n",
    "\n",
    "        self.dim_embedding = layer_size_embedding[-1]\n",
    "\n",
    "        self.embedding_layer = MLP(layers_sizes=layer_size_embedding)\n",
    "\n",
    "        self.transformer_encoder = TransformerEncoder(data_dim = self.dim_embedding, hidden_dim = hidden_dim_transformer, n_heads = n_heads_transformer, n_layers = n_layers_transformer, positional_encoding=\"learned\", max_len=max_len_for_encoding)\n",
    "\n",
    "        self.decoder = MLP(layers_sizes=layer_size_output)\n",
    "\n",
    "    def forward(self, x):\n",
    "\n",
    "        mask = self.make_mask(x, self.dim_embedding)\n",
    "\n",
    "        x = self.embedding_layer(x)\n",
    "        x = self.transformer_encoder.forward(x, mask)[:,0,:]\n",
    "        x = self.decoder(x)\n",
    "\n",
    "        return x\n",
    "\n",
    "    def make_mask(self, x, dim_embedding):\n",
    "        \n",
    "        return torch.ones_like(x)[:,:,:dim_embedding].to(device)\n"
   ]
  },
  {
   "attachments": {},
   "cell_type": "markdown",
   "metadata": {},
   "source": [
    "## Entrainement\n",
    "\n",
    "### Fonctions annexes\n",
    "\n",
    "Datasets : "
   ]
  },
  {
   "cell_type": "code",
   "execution_count": 90,
   "metadata": {},
   "outputs": [
    {
     "name": "stdout",
     "output_type": "stream",
     "text": [
      "maxlen =  42\n"
     ]
    }
   ],
   "source": [
    "with open(\"./data_transformer\", \"rb\") as temp:\n",
    "    data = pickle.load(temp)\n",
    "\n",
    "maxlen = 0\n",
    "for sequence, reponse in data:\n",
    "    if len(sequence)>maxlen:\n",
    "        maxlen = len(sequence)\n",
    "\n",
    "print(\"maxlen = \", maxlen)\n",
    "\n",
    "for sequence, response in data:\n",
    "    for _ in range(len(sequence), maxlen):\n",
    "        sequence.append([0., 0., 0., 0., 0., 0., 0., 0., 0.])\n",
    "\n",
    "# print(data[53])\n",
    "# il y a 55924 éléments\n",
    "class PlayerDataset(torch.utils.data.Dataset):\n",
    "    def __init__(self, data):\n",
    "        self.data = data\n",
    "\n",
    "    def __len__(self):\n",
    "        return len(self.data)\n",
    "\n",
    "    def __getitem__(self, idx):\n",
    "        input_data, output_data = self.data[idx]\n",
    "        return torch.tensor(input_data), torch.tensor(output_data)\n",
    "\n",
    "\n",
    "training_data = PlayerDataset(data[:50000])\n",
    "test_data = PlayerDataset(data[50000:55924])"
   ]
  },
  {
   "attachments": {},
   "cell_type": "markdown",
   "metadata": {},
   "source": [
    "Fonction d'evaluation :"
   ]
  },
  {
   "cell_type": "code",
   "execution_count": 91,
   "metadata": {},
   "outputs": [],
   "source": [
    "def success_rate_2(model,test_data):\n",
    "    loader = torch.utils.data.DataLoader(test_data, batch_size=len(test_data))\n",
    "    with torch.no_grad():\n",
    "        bonne_identification = 0\n",
    "\n",
    "        for batch in loader:\n",
    "            x_batch, y_batch = batch[0].to(device), batch[1].to(device)\n",
    "            \n",
    "            y_pred = model(x_batch).squeeze()\n",
    "\n",
    "            for ind in range(len(y_pred)):\n",
    "                if y_batch[ind][torch.argmax(y_pred[ind])] >0.5:\n",
    "                    bonne_identification += 1\n",
    "    return(bonne_identification/len(test_data))"
   ]
  },
  {
   "cell_type": "code",
   "execution_count": 92,
   "metadata": {},
   "outputs": [],
   "source": [
    "def action_rate(action):\n",
    "    loader = torch.utils.data.DataLoader(test_data, batch_size=len(test_data))\n",
    "    with torch.no_grad():\n",
    "        bonne_identification = 0\n",
    "\n",
    "        for _, y_batch in loader:\n",
    "            \n",
    "            for ind in range(len(y_batch)):\n",
    "                if y_batch[ind][action] >0.5:\n",
    "                    bonne_identification += 1\n",
    "    \n",
    "    return(bonne_identification/len(test_data))"
   ]
  },
  {
   "attachments": {},
   "cell_type": "markdown",
   "metadata": {},
   "source": [
    "Fonction d'entrainement"
   ]
  },
  {
   "cell_type": "code",
   "execution_count": 93,
   "metadata": {},
   "outputs": [],
   "source": [
    "\n",
    "def trainer(train_data, test_data, model, loss_fn,epoch=10,batch_size=64,rate=1e-4):\n",
    "\n",
    "    optimizer = torch.optim.Adam(model.parameters(), lr=rate)\n",
    "\n",
    "    loader = torch.utils.data.DataLoader(train_data, batch_size=batch_size)\n",
    "\n",
    "    loss_list = []\n",
    "    acc_list = []\n",
    "    \n",
    "\n",
    "    len_batch = len(loader)\n",
    "\n",
    "    for t in range(epoch):\n",
    "\n",
    "        loss_batch = 0.0\n",
    "\n",
    "        for batch in tqdm(loader):\n",
    "            x_batch, y_batch = batch[0].to(device), batch[1].to(device)\n",
    "\n",
    "            optimizer.zero_grad()\n",
    "            y_pred = model(x_batch)\n",
    "\n",
    "            if isinstance(loss_fn, torch.nn.MSELoss):\n",
    "                y_batch = y_batch.float()\n",
    "            loss = loss_fn(y_pred, y_batch)\n",
    "        \n",
    "            loss.backward()\n",
    "            optimizer.step()\n",
    "\n",
    "            loss_batch += float(loss.detach())\n",
    "\n",
    "        loss_list.append(loss_batch/len_batch)\n",
    "        acc = success_rate_2(model, test_data)\n",
    "        acc_list.append(acc)\n",
    "\n",
    "        print('epoch ', t, ' : accuracy=', acc, ' loss=',loss_list[-1])\n",
    "    \n",
    "    return acc_list, loss_list\n",
    "\n",
    "\n"
   ]
  },
  {
   "attachments": {},
   "cell_type": "markdown",
   "metadata": {},
   "source": [
    "### Entrainement du modele"
   ]
  },
  {
   "cell_type": "code",
   "execution_count": 94,
   "metadata": {},
   "outputs": [],
   "source": [
    "# modele de base : 196K parametres\n",
    "# modele suivant : \n",
    "\n",
    "dim_data_sequence = 9\n",
    "dim_output = 3\n",
    "\n",
    "dim_embedding = 6\n",
    "\n",
    "modelisation_joueur = PlayerModel(layer_size_embedding=[dim_data_sequence, 32, dim_embedding],\n",
    "                                  layer_size_output= [dim_embedding, 32, 16, dim_output],\n",
    "                                  hidden_dim_transformer= 2*dim_embedding,\n",
    "                                  n_heads_transformer= 6,\n",
    "                                  n_layers_transformer= 6, \n",
    "                                  max_len_for_encoding = maxlen\n",
    "                                  ).to(device)"
   ]
  },
  {
   "cell_type": "code",
   "execution_count": 95,
   "metadata": {},
   "outputs": [
    {
     "name": "stdout",
     "output_type": "stream",
     "text": [
      "0.1850101282916948\n",
      "0.6218771100607697\n"
     ]
    }
   ],
   "source": [
    "print(success_rate_2(modelisation_joueur, test_data))\n",
    "print(action_rate(action = 0))"
   ]
  },
  {
   "attachments": {},
   "cell_type": "markdown",
   "metadata": {},
   "source": []
  },
  {
   "cell_type": "code",
   "execution_count": 100,
   "metadata": {},
   "outputs": [
    {
     "name": "stderr",
     "output_type": "stream",
     "text": [
      "100%|██████████| 782/782 [00:17<00:00, 44.68it/s]\n"
     ]
    },
    {
     "name": "stdout",
     "output_type": "stream",
     "text": [
      "epoch  0  : accuracy= 0.6797771775827144  loss= 0.7410198120433656\n"
     ]
    },
    {
     "name": "stderr",
     "output_type": "stream",
     "text": [
      " 42%|████▏     | 330/782 [00:07<00:09, 45.46it/s]"
     ]
    }
   ],
   "source": [
    "acc_list, loss_list = trainer(training_data, test_data, modelisation_joueur, loss_fn = nn.CrossEntropyLoss(), epoch=60, batch_size=64)\n"
   ]
  },
  {
   "cell_type": "code",
   "execution_count": null,
   "metadata": {},
   "outputs": [
    {
     "name": "stdout",
     "output_type": "stream",
     "text": [
      "[0.6218771100607697, 0.6782579338284943, 0.6900742741390952, 0.6956448345712356, 0.7077987846049967, 0.7091492234976368, 0.7157326130992573, 0.7182646860229575, 0.7192775151924375, 0.7140445644834571, 0.7218095881161377, 0.7196151249155975, 0.7231600270087779, 0.7228224172856178, 0.7300810263335584, 0.7288993923024983, 0.7302498311951384, 0.7336259284267387, 0.7305874409182984, 0.7297434166103984, 0.7332883187035787, 0.7326130992572586, 0.7361580013504389, 0.7385212694125591, 0.7341323430114788, 0.7344699527346388, 0.7348075624577988, 0.7351451721809588, 0.7371708305199189, 0.7405469277515192]\n",
      "[1.107830286026001, 1.1025035381317139, 1.0991456508636475, 1.0988982915878296, 1.098934292793274, 1.0988465547561646, 1.0987926721572876, 1.098680853843689, 1.098591685295105, 1.0984355211257935, 1.0982177257537842, 1.0875097513198853, 1.0158283710479736, 0.9422054290771484, 0.9275959134101868, 0.9086920022964478, 0.9320452809333801, 0.8598958253860474, 0.8899478912353516, 0.9391869306564331, 0.9096882939338684, 0.8860316276550293, 0.8983734846115112, 0.8874777555465698, 0.8420175313949585, 0.8217769861221313, 0.8763993978500366, 0.8256088495254517, 0.8055449724197388, 0.7791367769241333, 0.7312098145484924, 0.768166720867157, 0.7585934400558472, 0.7553256750106812, 0.7885189056396484, 0.7610806822776794, 0.756591796875, 0.7405638694763184, 0.7800657153129578, 0.8109661340713501, 0.7819284200668335, 0.8312050700187683, 0.8064875602722168, 0.7847036123275757, 0.7866997122764587, 0.7964791059494019, 0.8182960748672485, 0.7425692677497864, 0.735927939414978, 0.6997024416923523, 0.6903747320175171, 0.7425228357315063, 0.7219976186752319, 0.7358039617538452, 0.7157685160636902, 0.7366553544998169, 0.7125367522239685, 0.7270861864089966, 0.7723796367645264, 0.7627469301223755, 0.7637194395065308, 0.7996839284896851, 0.7790632247924805, 0.7507275342941284, 0.7552779912948608, 0.786046028137207, 0.760735809803009, 0.7260269522666931, 0.6953864097595215, 0.6470421552658081, 0.7020586133003235, 0.7073322534561157, 0.685951828956604, 0.7298983335494995, 0.6925396919250488, 0.722393810749054, 0.6852399110794067, 0.7200663685798645, 0.7794702649116516, 0.7298902869224548, 0.7628991603851318, 0.7730163335800171, 0.7519625425338745, 0.7220795154571533, 0.7468777894973755, 0.7731739282608032, 0.6900140643119812, 0.686352014541626, 0.6692551374435425, 0.6211102604866028, 0.69330894947052, 0.6583433151245117, 0.6854852437973022, 0.6695542335510254, 0.6757801175117493, 0.6786990165710449, 0.6750534176826477, 0.7262594699859619, 0.7171870470046997, 0.7226108312606812, 0.7558975219726562, 0.7442553043365479, 0.715204119682312, 0.7183350324630737, 0.7374659776687622, 0.7176581025123596, 0.6758109927177429, 0.6607481241226196, 0.6223598718643188, 0.6517676115036011, 0.6807400584220886, 0.6415050029754639, 0.6674709916114807, 0.6743437051773071, 0.6785753965377808, 0.6448675394058228, 0.6867464184761047, 0.7460092306137085, 0.6899319887161255, 0.717102587223053, 0.7585791945457458, 0.7311311960220337, 0.6981214284896851, 0.7167904376983643, 0.7509865760803223, 0.6698153018951416, 0.6626929640769958, 0.6510409116744995, 0.6083487272262573, 0.6658855676651001, 0.6401394605636597, 0.6481043100357056, 0.6638544201850891, 0.6531034708023071, 0.6672701239585876, 0.6573156118392944, 0.7153307199478149, 0.7057311534881592, 0.701725423336029, 0.7429969310760498, 0.7348626852035522, 0.7012019753456116, 0.7260169386863708, 0.7269216775894165, 0.7170708775520325, 0.654875636100769, 0.6463717818260193, 0.623961329460144, 0.6195526123046875, 0.6717077493667603, 0.6270872950553894, 0.6637643575668335, 0.6451923251152039, 0.6761013269424438, 0.636877179145813, 0.6738792657852173, 0.7338323593139648, 0.6809014081954956, 0.7115917205810547, 0.7440104484558105, 0.7222845554351807, 0.689520001411438, 0.7137802839279175, 0.7362421154975891, 0.676115095615387, 0.6536322832107544, 0.6416943073272705, 0.6065142750740051, 0.6475986838340759, 0.6329858303070068, 0.6308865547180176, 0.6680858135223389, 0.6443377733230591, 0.6521952748298645, 0.6359460353851318, 0.7008710503578186, 0.6963235139846802, 0.6893864870071411, 0.7449377179145813, 0.7340001463890076, 0.6751874685287476, 0.7137984037399292, 0.7094712853431702, 0.7249336838722229, 0.6490676999092102, 0.6375508308410645, 0.5965720415115356, 0.6132354736328125, 0.6671134233474731, 0.6114006638526917, 0.6589030027389526, 0.6297959685325623, 0.6709603071212769, 0.6237630248069763, 0.6588789224624634, 0.7246807813644409, 0.6783744096755981, 0.6936314105987549, 0.7391696572303772, 0.7141454815864563, 0.6880067586898804, 0.6944738626480103, 0.7212154269218445, 0.6769751906394958, 0.6513413786888123, 0.640669047832489, 0.5867478251457214, 0.6390238404273987, 0.6273126006126404, 0.619198203086853, 0.6604758501052856, 0.6236663460731506, 0.6481453776359558, 0.624474823474884, 0.6929486989974976, 0.6902080774307251, 0.7092065811157227, 0.7155598402023315, 0.7171376347541809, 0.6861458420753479, 0.6910795569419861, 0.709105372428894, 0.7108582854270935, 0.6428489089012146, 0.6389517784118652, 0.6075600385665894, 0.5993512868881226, 0.6488418579101562, 0.6105426549911499, 0.6503437161445618, 0.6243517994880676, 0.6579562425613403, 0.6270624995231628, 0.6518222093582153, 0.7102017998695374, 0.6721291542053223, 0.6846407055854797, 0.7318128943443298, 0.7120082378387451, 0.6869869828224182, 0.6814067363739014, 0.7168908715248108, 0.6739279627799988, 0.6520165205001831, 0.6296191811561584, 0.5795420408248901, 0.6179454922676086, 0.6284000277519226, 0.5969159603118896, 0.6757418513298035, 0.6209074258804321, 0.6405208110809326, 0.6192067861557007, 0.6734724044799805, 0.6988944411277771, 0.6804181337356567, 0.7065423130989075, 0.7209097146987915, 0.6929814219474792, 0.6743886470794678, 0.7090850472450256, 0.7131331562995911, 0.6354004740715027, 0.6360579133033752, 0.6118749976158142, 0.5840514898300171, 0.6385783553123474, 0.6025102734565735, 0.6459174752235413, 0.6211858987808228, 0.6454164981842041, 0.6246974468231201, 0.6335410475730896, 0.6927241086959839, 0.682213306427002, 0.6704246401786804, 0.7279495000839233, 0.7111430168151855, 0.678510308265686, 0.6790145039558411, 0.7014932036399841, 0.682371199131012, 0.642098605632782, 0.6168153882026672, 0.5790263414382935, 0.6038342714309692, 0.6352978944778442, 0.6033129096031189, 0.6361936330795288, 0.626298189163208, 0.6396878957748413, 0.6144405603408813, 0.6528221368789673, 0.6737717390060425, 0.6781162619590759, 0.7136045694351196, 0.7136471271514893, 0.6685613989830017, 0.6819576025009155, 0.6995757818222046, 0.7044215798377991, 0.6329525709152222, 0.6181607246398926, 0.5819194316864014, 0.5846418142318726, 0.6471825838088989, 0.5859473347663879, 0.6312688589096069, 0.6159166693687439, 0.6510981321334839, 0.6132673025131226, 0.6409868597984314, 0.7040656208992004, 0.6583566665649414, 0.6761948466300964, 0.7178171277046204, 0.7108398675918579, 0.6682966947555542, 0.6685601472854614, 0.7082237601280212, 0.6603795289993286, 0.6328471899032593, 0.6215356588363647, 0.5707147121429443, 0.6142097115516663, 0.5958430767059326, 0.5980063676834106, 0.6578840017318726, 0.6137367486953735, 0.6237791776657104, 0.6119588613510132, 0.6562351584434509, 0.6758323907852173, 0.6851593255996704, 0.7017611265182495, 0.7002570629119873, 0.6773096323013306, 0.672981321811676, 0.7003117799758911, 0.6964708566665649, 0.6245784759521484, 0.6179900765419006, 0.5890496373176575, 0.5673114061355591, 0.6299154758453369, 0.5883275270462036, 0.6356133818626404, 0.6073650121688843, 0.6398127675056458, 0.6115474700927734, 0.6348238587379456, 0.6759183406829834, 0.6752484440803528, 0.6620339751243591, 0.7187656164169312, 0.6947909593582153, 0.6663947105407715, 0.6708129644393921, 0.6961773037910461, 0.6667819023132324, 0.632607102394104, 0.6082931756973267, 0.5635048747062683, 0.6072947382926941, 0.6122503280639648, 0.5884100198745728, 0.6493520736694336, 0.6053531169891357, 0.6303566694259644, 0.6035935282707214, 0.6441311836242676, 0.6931357383728027, 0.6662896871566772, 0.6801192164421082, 0.7143282294273376, 0.6814998388290405, 0.6509809494018555, 0.6830711364746094, 0.7088395357131958, 0.6211386322975159, 0.6213392019271851, 0.6055005788803101, 0.5519620180130005, 0.6338335871696472, 0.582446277141571, 0.6213421821594238, 0.6111577749252319, 0.6225406527519226, 0.6163097620010376, 0.619581401348114, 0.6750634908676147, 0.6640243530273438, 0.666193962097168, 0.7000205516815186, 0.6987801790237427, 0.6665977239608765, 0.6685738563537598, 0.6847395896911621, 0.6608807444572449, 0.6232763528823853, 0.6072553992271423, 0.5611528754234314, 0.5895527601242065, 0.6296399831771851, 0.5773738622665405, 0.6158739924430847, 0.6292180418968201, 0.6270211935043335, 0.5914455652236938, 0.6374088525772095, 0.6868607401847839, 0.6487702131271362, 0.674118161201477, 0.70913165807724, 0.6939994096755981, 0.6449731588363647, 0.6794299483299255, 0.7027036547660828, 0.6200233697891235, 0.6220253109931946, 0.5991338491439819, 0.5550231337547302, 0.6128659248352051, 0.5808862447738647, 0.597405731678009, 0.6237435340881348, 0.6117860078811646, 0.6192395091056824, 0.6080211400985718, 0.6675575971603394, 0.6554361581802368, 0.6628974080085754, 0.6954101324081421, 0.697013795375824, 0.6564602851867676, 0.6743605732917786, 0.6820727586746216, 0.6825020909309387, 0.6142641305923462, 0.6013654470443726, 0.569940447807312, 0.5687588453292847, 0.6260396242141724, 0.5768570303916931, 0.6179707050323486, 0.5996107459068298, 0.6351197957992554, 0.5894240736961365, 0.6348419785499573, 0.6797507405281067, 0.6440542340278625, 0.6694446802139282, 0.7054171562194824, 0.691400408744812, 0.6400401592254639, 0.6754668951034546, 0.6885524988174438, 0.6271122694015503, 0.6180934309959412, 0.592062771320343, 0.5588093996047974, 0.6025888323783875, 0.5792708992958069, 0.5845020413398743, 0.6327360272407532, 0.6100839376449585, 0.6060595512390137, 0.5940393805503845, 0.6559826731681824, 0.65972501039505, 0.6519733667373657, 0.694229781627655, 0.7021296620368958, 0.6403666734695435, 0.6728596091270447, 0.6730851531028748, 0.6842273473739624, 0.6113725900650024, 0.5998455286026001, 0.5546968579292297, 0.5675101280212402, 0.6255085468292236, 0.5642452239990234, 0.6203755140304565, 0.5931495428085327, 0.631950855255127, 0.5856689214706421, 0.616723358631134, 0.6759237051010132, 0.6446687579154968, 0.6542372107505798, 0.7058863043785095, 0.682691216468811, 0.6473730802536011, 0.6583328247070312, 0.6835325956344604, 0.6379505395889282, 0.6174551844596863, 0.5956958532333374, 0.5425381660461426, 0.5967726707458496, 0.5826689600944519, 0.5780457258224487, 0.6310381889343262, 0.6005924940109253, 0.6057609915733337, 0.5817049741744995, 0.6559683084487915, 0.6411803364753723, 0.6746567487716675, 0.6735996007919312, 0.6874234080314636, 0.6585306525230408, 0.6501139998435974, 0.6783029437065125, 0.6724593639373779, 0.6102839112281799, 0.5947226285934448, 0.5679539442062378, 0.5593575835227966, 0.6105061769485474, 0.5628233551979065, 0.6119430661201477, 0.5860435962677002, 0.6283227205276489, 0.5859024524688721, 0.6131251454353333, 0.6619331240653992, 0.6451565027236938, 0.6535885334014893, 0.6989421844482422, 0.6878551244735718, 0.6500701904296875, 0.6485873460769653, 0.6824665665626526, 0.635450541973114, 0.6172088384628296, 0.592503011226654, 0.5475112199783325, 0.5834672451019287, 0.5833470821380615, 0.5595072507858276, 0.6408911347389221, 0.5869568586349487, 0.5987386107444763, 0.5806611776351929, 0.6403228044509888, 0.6585750579833984, 0.6479238271713257, 0.6625262498855591, 0.6986613273620605, 0.6608811616897583, 0.636119544506073, 0.6734834909439087, 0.672549307346344, 0.6028162240982056, 0.599363386631012, 0.5770490169525146, 0.5466291308403015, 0.6061338782310486, 0.5644782781600952, 0.6107200384140015, 0.585424542427063, 0.6128373742103577, 0.593018651008606, 0.5986920595169067, 0.6523245573043823, 0.647842288017273, 0.6455461382865906, 0.694355309009552, 0.691952109336853, 0.6518979072570801, 0.6478959321975708, 0.6585849523544312, 0.6506158113479614, 0.6111389398574829, 0.5803583264350891, 0.5456942915916443, 0.5660563707351685, 0.6049949526786804, 0.5683196783065796, 0.6114975214004517, 0.595841109752655, 0.598758339881897, 0.5874655842781067, 0.6244155764579773]\n",
      "[0, 19, 39, 58, 78, 97, 117, 136, 156, 175, 195, 215, 234, 254, 273, 293, 312, 332, 351, 371, 390, 410, 429, 449, 468, 488, 508, 527, 547, 566, 586]\n"
     ]
    }
   ],
   "source": [
    "print(acc_list)\n",
    "print([float(loss) for loss in loss_list])\n"
   ]
  },
  {
   "cell_type": "code",
   "execution_count": null,
   "metadata": {},
   "outputs": [
    {
     "data": {
      "image/png": "[encoded data removed]",
      "text/plain": [
       "<Figure size 640x480 with 1 Axes>"
      ]
     },
     "metadata": {},
     "output_type": "display_data"
    }
   ],
   "source": [
    "plt.plot(loss_list, label = 'loss')\n",
    "\n",
    "plt.xlabel('batch')\n",
    "plt.ylabel('loss')\n",
    "plt.title('embedding : hidden_layer=32, dim=6 / output : hidden_layer=32 / transformer : hidden_dim=12, n_heads=6, n_block=6')\n",
    "\n",
    "plt.show()\n"
   ]
  },
  {
   "cell_type": "code",
   "execution_count": null,
   "metadata": {},
   "outputs": [
    {
     "data": {
      "image/png": "[encoded data removed]",
      "text/plain": [
       "<Figure size 640x480 with 1 Axes>"
      ]
     },
     "metadata": {},
     "output_type": "display_data"
    }
   ],
   "source": [
    "plt.plot(acc_list, label = 'accuracy')\n",
    "\n",
    "plt.xlabel('batch')\n",
    "plt.ylabel('accuracy')\n",
    "plt.title('embedding : hidden_layer=32, dim=6 / output : hidden_layer=32 / transformer : hidden_dim=12, n_heads=6, n_block=6')\n",
    "\n",
    "plt.show()"
   ]
  }
 ],
 "metadata": {
  "kernelspec": {
   "display_name": "Python 3",
   "language": "python",
   "name": "python3"
  },
  "language_info": {
   "codemirror_mode": {
    "name": "ipython",
    "version": 3
   },
   "file_extension": ".py",
   "mimetype": "text/x-python",
   "name": "python",
   "nbconvert_exporter": "python",
   "pygments_lexer": "ipython3",
   "version": "3.9.18"
  }
 },
 "nbformat": 4,
 "nbformat_minor": 2
}
